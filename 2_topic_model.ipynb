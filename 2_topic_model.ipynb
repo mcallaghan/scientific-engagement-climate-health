{
 "cells": [
  {
   "cell_type": "code",
   "execution_count": 1,
   "metadata": {},
   "outputs": [],
   "source": [
    "import matplotlib.pyplot as plt\n",
    "import numpy as np\n",
    "import pandas as pd\n",
    "import sys, os, django\n",
    "\n",
    "sys.path.append('/home/max/software/django-tmv/tmv_mcc-apsis/BasicBrowser')\n",
    "os.environ.setdefault(\"DJANGO_SETTINGS_MODULE\", \"BasicBrowser.settings\")\n",
    "django.setup()\n",
    "\n",
    "from tmv_app.models import *\n",
    "\n",
    "django.db.connection.close()"
   ]
  },
  {
   "cell_type": "code",
   "execution_count": 6,
   "metadata": {},
   "outputs": [
    {
     "data": {
      "text/html": [
       "<div>\n",
       "<style scoped>\n",
       "    .dataframe tbody tr th:only-of-type {\n",
       "        vertical-align: middle;\n",
       "    }\n",
       "\n",
       "    .dataframe tbody tr th {\n",
       "        vertical-align: top;\n",
       "    }\n",
       "\n",
       "    .dataframe thead th {\n",
       "        text-align: right;\n",
       "    }\n",
       "</style>\n",
       "<table border=\"1\" class=\"dataframe\">\n",
       "  <thead>\n",
       "    <tr style=\"text-align: right;\">\n",
       "      <th></th>\n",
       "      <th>topic_id</th>\n",
       "      <th>term_id</th>\n",
       "      <th>score</th>\n",
       "    </tr>\n",
       "  </thead>\n",
       "  <tbody>\n",
       "    <tr>\n",
       "      <th>79780</th>\n",
       "      <td>213122</td>\n",
       "      <td>5107</td>\n",
       "      <td>0.013223</td>\n",
       "    </tr>\n",
       "    <tr>\n",
       "      <th>51626</th>\n",
       "      <td>213122</td>\n",
       "      <td>140</td>\n",
       "      <td>0.001642</td>\n",
       "    </tr>\n",
       "    <tr>\n",
       "      <th>47101</th>\n",
       "      <td>213122</td>\n",
       "      <td>7513</td>\n",
       "      <td>0.002288</td>\n",
       "    </tr>\n",
       "    <tr>\n",
       "      <th>65386</th>\n",
       "      <td>213122</td>\n",
       "      <td>55</td>\n",
       "      <td>0.038242</td>\n",
       "    </tr>\n",
       "    <tr>\n",
       "      <th>25044</th>\n",
       "      <td>213122</td>\n",
       "      <td>4026</td>\n",
       "      <td>0.013613</td>\n",
       "    </tr>\n",
       "  </tbody>\n",
       "</table>\n",
       "</div>"
      ],
      "text/plain": [
       "       topic_id  term_id     score\n",
       "79780    213122     5107  0.013223\n",
       "51626    213122      140  0.001642\n",
       "47101    213122     7513  0.002288\n",
       "65386    213122       55  0.038242\n",
       "25044    213122     4026  0.013613"
      ]
     },
     "execution_count": 6,
     "metadata": {},
     "output_type": "execute_result"
    }
   ],
   "source": [
    "# Get the topic-term scores associated with the run_id from our database\n",
    "run_id = 2927 \n",
    "tts = pd.DataFrame(TopicTerm.objects.filter(run_id=run_id).values('topic_id','term_id','score')).sort_values('topic_id')\n",
    "tts.head()"
   ]
  },
  {
   "cell_type": "code",
   "execution_count": 17,
   "metadata": {},
   "outputs": [
    {
     "data": {
      "text/plain": [
       "(70, 6409)"
      ]
     },
     "execution_count": 17,
     "metadata": {},
     "output_type": "execute_result"
    }
   ],
   "source": [
    "# Put them into a matrix, filling empty cells with 0\n",
    "H = (tts\n",
    "     .pivot(index=\"topic_id\",columns=\"term_id\")\n",
    "     .fillna(0).values\n",
    "    )\n",
    "H.shape"
   ]
  },
  {
   "cell_type": "code",
   "execution_count": 18,
   "metadata": {},
   "outputs": [
    {
     "data": {
      "text/html": [
       "<div>\n",
       "<style scoped>\n",
       "    .dataframe tbody tr th:only-of-type {\n",
       "        vertical-align: middle;\n",
       "    }\n",
       "\n",
       "    .dataframe tbody tr th {\n",
       "        vertical-align: top;\n",
       "    }\n",
       "\n",
       "    .dataframe thead th {\n",
       "        text-align: right;\n",
       "    }\n",
       "</style>\n",
       "<table border=\"1\" class=\"dataframe\">\n",
       "  <thead>\n",
       "    <tr style=\"text-align: right;\">\n",
       "      <th></th>\n",
       "      <th>title</th>\n",
       "      <th>id</th>\n",
       "    </tr>\n",
       "  </thead>\n",
       "  <tbody>\n",
       "    <tr>\n",
       "      <th>0</th>\n",
       "      <td>account</td>\n",
       "      <td>1</td>\n",
       "    </tr>\n",
       "    <tr>\n",
       "      <th>1</th>\n",
       "      <td>activ</td>\n",
       "      <td>2</td>\n",
       "    </tr>\n",
       "    <tr>\n",
       "      <th>2</th>\n",
       "      <td>addit</td>\n",
       "      <td>3</td>\n",
       "    </tr>\n",
       "    <tr>\n",
       "      <th>3</th>\n",
       "      <td>affect</td>\n",
       "      <td>4</td>\n",
       "    </tr>\n",
       "    <tr>\n",
       "      <th>4</th>\n",
       "      <td>also</td>\n",
       "      <td>5</td>\n",
       "    </tr>\n",
       "    <tr>\n",
       "      <th>...</th>\n",
       "      <td>...</td>\n",
       "      <td>...</td>\n",
       "    </tr>\n",
       "    <tr>\n",
       "      <th>6404</th>\n",
       "      <td>sandyrel</td>\n",
       "      <td>2396893</td>\n",
       "    </tr>\n",
       "    <tr>\n",
       "      <th>6405</th>\n",
       "      <td>particulatematterassoci</td>\n",
       "      <td>2420430</td>\n",
       "    </tr>\n",
       "    <tr>\n",
       "      <th>6406</th>\n",
       "      <td>particulatematterbound</td>\n",
       "      <td>2420431</td>\n",
       "    </tr>\n",
       "    <tr>\n",
       "      <th>6407</th>\n",
       "      <td>particulatematterparticulatematt</td>\n",
       "      <td>2420432</td>\n",
       "    </tr>\n",
       "    <tr>\n",
       "      <th>6408</th>\n",
       "      <td>particulatematterrel</td>\n",
       "      <td>2420433</td>\n",
       "    </tr>\n",
       "  </tbody>\n",
       "</table>\n",
       "<p>6409 rows × 2 columns</p>\n",
       "</div>"
      ],
      "text/plain": [
       "                                 title       id\n",
       "0                              account        1\n",
       "1                                activ        2\n",
       "2                                addit        3\n",
       "3                               affect        4\n",
       "4                                 also        5\n",
       "...                                ...      ...\n",
       "6404                          sandyrel  2396893\n",
       "6405           particulatematterassoci  2420430\n",
       "6406            particulatematterbound  2420431\n",
       "6407  particulatematterparticulatematt  2420432\n",
       "6408              particulatematterrel  2420433\n",
       "\n",
       "[6409 rows x 2 columns]"
      ]
     },
     "execution_count": 18,
     "metadata": {},
     "output_type": "execute_result"
    }
   ],
   "source": [
    "# Get the vocabulary\n",
    "vocab = pd.DataFrame(Term.objects.filter(id__in=tts['term_id'].unique()).values('title','id'))\n",
    "vocab"
   ]
  },
  {
   "cell_type": "code",
   "execution_count": 20,
   "metadata": {},
   "outputs": [],
   "source": [
    "# Load the data we want to transform into the old model space\n",
    "df = pd.read_csv('data/included_docs.csv')\n",
    "\n",
    "# Get the docs with more than 10 words, and strip out copyright boilerplate\n",
    "df['n_words'] = df['content'].str.findall(r'(\\w+)').str.len()\n",
    "docs = df[df['n_words']>10]\n",
    "docs['content'] = [x.split(\"Copyright (C)\")[0] for x in docs['content']]\n",
    "docs['content'] = [re.split(\"\\([C-c]\\) [1-2][0-9]{3} Elsevier\", x)[0] for x in docs['content']]\n",
    "docs['content'] = [x.split(\"Published by Elsevier\")[0] for x in docs['content']]\n",
    "docs['content'] = [x.split(\"Copyright. (C)\")[0] for x in docs['content']]\n",
    "docs['content'] = [re.split(\"\\. \\(C\\) [1-2][0-9]{3} \", x)[0] for x in docs['content']]\n",
    "docs['content'] = [re.split(\"\\. \\(C\\) Copyright\", x)[0] for x in docs['content']]\n",
    "\n",
    "ids = docs['id']\n",
    "abstracts = docs['content']"
   ]
  },
  {
   "cell_type": "code",
   "execution_count": 21,
   "metadata": {},
   "outputs": [
    {
     "name": "stderr",
     "output_type": "stream",
     "text": [
      "/home/max/software/django-tmv/tmv/venv/lib/python3.6/site-packages/sklearn/feature_extraction/text.py:386: UserWarning: Your stop_words may be inconsistent with your preprocessing. Tokenizing the stop words generated tokens ['abov', 'ani', 'arent', 'becaus', 'befor', 'couldnt', 'didnt', 'doe', 'doesnt', 'dont', 'dure', 'hadnt', 'hasnt', 'havent', 'isnt', 'mightnt', 'mustnt', 'neednt', 'onc', 'onli', 'ourselv', 'shant', 'shes', 'shouldnt', 'shouldv', 'thatll', 'themselv', 'veri', 'wasnt', 'werent', 'whi', 'wont', 'wouldnt', 'youd', 'youll', 'yourselv', 'youv'] not in stop_words.\n",
      "  'stop_words.' % sorted(inconsistent))\n"
     ]
    }
   ],
   "source": [
    "from nltk.stem import SnowballStemmer\n",
    "import nltk\n",
    "from sklearn.feature_extraction.text import CountVectorizer, TfidfVectorizer\n",
    "import string\n",
    "\n",
    "def tokenize(text):\n",
    "    transtable = {ord(c): None for c in string.punctuation + string.digits}\n",
    "    tokens = nltk.word_tokenize(text.translate(transtable))\n",
    "    tokens = [i for i in tokens if len(i) > 2 and len(i) < 100]\n",
    "    return tokens\n",
    "\n",
    "class snowball_stemmer(object):\n",
    "    def __init__(self):\n",
    "        self.stemmer = SnowballStemmer(\"english\")\n",
    "    def __call__(self, doc):\n",
    "        return [self.stemmer.stem(t) for t in tokenize(doc)]\n",
    "\n",
    "tokenizer = snowball_stemmer()\n",
    "stoplist = set(nltk.corpus.stopwords.words(\"english\"))\n",
    "\n",
    "# Vectorize the data into a document-term matrix tfidf\n",
    "vectorizer = TfidfVectorizer(\n",
    "    max_df=stat.max_df,\n",
    "    min_df=stat.min_freq,\n",
    "    ngram_range=(stat.ngram,stat.ngram),\n",
    "    tokenizer=tokenizer,\n",
    "    stop_words=stoplist\n",
    ")\n",
    "tfidf = vectorizer.fit_transform(abstracts).todense()\n",
    "vocab_list = vectorizer.get_feature_names()"
   ]
  },
  {
   "cell_type": "code",
   "execution_count": 22,
   "metadata": {},
   "outputs": [
    {
     "data": {
      "text/plain": [
       "(22054, 6409)"
      ]
     },
     "execution_count": 22,
     "metadata": {},
     "output_type": "execute_result"
    }
   ],
   "source": [
    "# Initialise an empty matrix with the vocab in the original topic model\n",
    "X = np.matrix(np.zeros((len(docs),H.shape[1])))\n",
    "\n",
    "# Fill this matrix with our data from the new documents\n",
    "vocab_translate = {row['title']: i for i, row in vocab.iterrows()}\n",
    "for i, word in enumerate(vocab_list):\n",
    "    try:\n",
    "        term_idx = vocab_translate[word]\n",
    "    except KeyError as e:\n",
    "        error = f\"couldn't find {e}\"\n",
    "    X[:,term_idx] = tfidf[:,i]\n",
    "    \n",
    "X.shape"
   ]
  },
  {
   "cell_type": "code",
   "execution_count": 109,
   "metadata": {},
   "outputs": [],
   "source": []
  },
  {
   "cell_type": "code",
   "execution_count": 23,
   "metadata": {},
   "outputs": [
    {
     "name": "stderr",
     "output_type": "stream",
     "text": [
      "/home/max/software/django-tmv/tmv/venv/lib/python3.6/site-packages/sklearn/decomposition/_nmf.py:1077: ConvergenceWarning: Maximum number of iterations 5 reached. Increase it to improve convergence.\n",
      "  \" improve convergence.\" % max_iter, ConvergenceWarning)\n"
     ]
    }
   ],
   "source": [
    "from sklearn.decomposition import NMF\n",
    "\n",
    "# Initialise an NMF classifier with the topic-terms from the run before \n",
    "clf = NMF(\n",
    "    n_components=ttm.shape[0],\n",
    "    init=\"custom\",\n",
    "    max_iter=5\n",
    ")\n",
    "clf.components_ = H\n",
    "clf.n_components_ = H.shape[0]\n",
    "\n",
    "# Transform the new data into the topic model space\n",
    "W = clf.transform(\n",
    "    X\n",
    ")"
   ]
  },
  {
   "cell_type": "code",
   "execution_count": 43,
   "metadata": {},
   "outputs": [
    {
     "data": {
      "text/html": [
       "<div>\n",
       "<style scoped>\n",
       "    .dataframe tbody tr th:only-of-type {\n",
       "        vertical-align: middle;\n",
       "    }\n",
       "\n",
       "    .dataframe tbody tr th {\n",
       "        vertical-align: top;\n",
       "    }\n",
       "\n",
       "    .dataframe thead th {\n",
       "        text-align: right;\n",
       "    }\n",
       "</style>\n",
       "<table border=\"1\" class=\"dataframe\">\n",
       "  <thead>\n",
       "    <tr style=\"text-align: right;\">\n",
       "      <th></th>\n",
       "      <th>doc_id</th>\n",
       "      <th>topic_id</th>\n",
       "      <th>score</th>\n",
       "    </tr>\n",
       "  </thead>\n",
       "  <tbody>\n",
       "    <tr>\n",
       "      <th>0</th>\n",
       "      <td>4963912</td>\n",
       "      <td>213122</td>\n",
       "      <td>0.000206</td>\n",
       "    </tr>\n",
       "    <tr>\n",
       "      <th>1</th>\n",
       "      <td>4729030</td>\n",
       "      <td>213122</td>\n",
       "      <td>0.000412</td>\n",
       "    </tr>\n",
       "    <tr>\n",
       "      <th>3</th>\n",
       "      <td>678134</td>\n",
       "      <td>213122</td>\n",
       "      <td>0.010642</td>\n",
       "    </tr>\n",
       "    <tr>\n",
       "      <th>6</th>\n",
       "      <td>3388074</td>\n",
       "      <td>213122</td>\n",
       "      <td>0.002163</td>\n",
       "    </tr>\n",
       "    <tr>\n",
       "      <th>7</th>\n",
       "      <td>670073</td>\n",
       "      <td>213122</td>\n",
       "      <td>0.019230</td>\n",
       "    </tr>\n",
       "    <tr>\n",
       "      <th>...</th>\n",
       "      <td>...</td>\n",
       "      <td>...</td>\n",
       "      <td>...</td>\n",
       "    </tr>\n",
       "    <tr>\n",
       "      <th>1543769</th>\n",
       "      <td>3347158</td>\n",
       "      <td>213191</td>\n",
       "      <td>0.001954</td>\n",
       "    </tr>\n",
       "    <tr>\n",
       "      <th>1543772</th>\n",
       "      <td>4959920</td>\n",
       "      <td>213191</td>\n",
       "      <td>0.020337</td>\n",
       "    </tr>\n",
       "    <tr>\n",
       "      <th>1543775</th>\n",
       "      <td>5062214</td>\n",
       "      <td>213191</td>\n",
       "      <td>0.018152</td>\n",
       "    </tr>\n",
       "    <tr>\n",
       "      <th>1543777</th>\n",
       "      <td>568238</td>\n",
       "      <td>213191</td>\n",
       "      <td>0.000350</td>\n",
       "    </tr>\n",
       "    <tr>\n",
       "      <th>1543778</th>\n",
       "      <td>4959191</td>\n",
       "      <td>213191</td>\n",
       "      <td>0.000028</td>\n",
       "    </tr>\n",
       "  </tbody>\n",
       "</table>\n",
       "<p>573813 rows × 3 columns</p>\n",
       "</div>"
      ],
      "text/plain": [
       "          doc_id topic_id     score\n",
       "0        4963912   213122  0.000206\n",
       "1        4729030   213122  0.000412\n",
       "3         678134   213122  0.010642\n",
       "6        3388074   213122  0.002163\n",
       "7         670073   213122  0.019230\n",
       "...          ...      ...       ...\n",
       "1543769  3347158   213191  0.001954\n",
       "1543772  4959920   213191  0.020337\n",
       "1543775  5062214   213191  0.018152\n",
       "1543777   568238   213191  0.000350\n",
       "1543778  4959191   213191  0.000028\n",
       "\n",
       "[573813 rows x 3 columns]"
      ]
     },
     "execution_count": 43,
     "metadata": {},
     "output_type": "execute_result"
    }
   ],
   "source": [
    "# Save the nonzero elements in a long csv\n",
    "\n",
    "dtm = pd.DataFrame(W)\n",
    "dtm.columns = tts.topic_id.unique()\n",
    "dtm.index = ids\n",
    "dtm = (dtm\n",
    "       .reset_index()\n",
    "       .rename(columns={\"id\":\"doc_id\"})\n",
    "       .melt(id_vars=\"doc_id\", var_name=\"topic_id\",value_name=\"score\")\n",
    "       .query(\"score>0\")\n",
    "      )\n",
    "dtm.to_csv('data/doc_topic_scores.csv',index=False)\n",
    "dtm"
   ]
  },
  {
   "cell_type": "code",
   "execution_count": 125,
   "metadata": {},
   "outputs": [],
   "source": [
    "\n"
   ]
  }
 ],
 "metadata": {
  "kernelspec": {
   "display_name": "tmv",
   "language": "python",
   "name": "tmv"
  },
  "language_info": {
   "codemirror_mode": {
    "name": "ipython",
    "version": 3
   },
   "file_extension": ".py",
   "mimetype": "text/x-python",
   "name": "python",
   "nbconvert_exporter": "python",
   "pygments_lexer": "ipython3",
   "version": "3.6.6"
  }
 },
 "nbformat": 4,
 "nbformat_minor": 4
}
