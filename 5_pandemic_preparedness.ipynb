{
 "cells": [
  {
   "cell_type": "code",
   "execution_count": 1,
   "metadata": {},
   "outputs": [],
   "source": [
    "import pandas as pd\n",
    "import numpy as np\n",
    "import matplotlib.pyplot as plt\n"
   ]
  },
  {
   "cell_type": "code",
   "execution_count": 2,
   "metadata": {},
   "outputs": [
    {
     "name": "stdout",
     "output_type": "stream",
     "text": [
      "(3214, 18)\n"
     ]
    },
    {
     "data": {
      "text/html": [
       "<div>\n",
       "<style scoped>\n",
       "    .dataframe tbody tr th:only-of-type {\n",
       "        vertical-align: middle;\n",
       "    }\n",
       "\n",
       "    .dataframe tbody tr th {\n",
       "        vertical-align: top;\n",
       "    }\n",
       "\n",
       "    .dataframe thead th {\n",
       "        text-align: right;\n",
       "    }\n",
       "</style>\n",
       "<table border=\"1\" class=\"dataframe\">\n",
       "  <thead>\n",
       "    <tr style=\"text-align: right;\">\n",
       "      <th></th>\n",
       "      <th>id</th>\n",
       "      <th>content</th>\n",
       "      <th>title</th>\n",
       "      <th>PY</th>\n",
       "      <th>wosarticle__de</th>\n",
       "      <th>wosarticle__wc</th>\n",
       "      <th>relevant</th>\n",
       "      <th>seen</th>\n",
       "      <th>1 - Adaptation</th>\n",
       "      <th>1 - Impacts</th>\n",
       "      <th>1 - Mitigation</th>\n",
       "      <th>wosarticle__dt</th>\n",
       "      <th>tslug</th>\n",
       "      <th>UT__UT</th>\n",
       "      <th>prediction</th>\n",
       "      <th>1 - Mitigation - prediction</th>\n",
       "      <th>1 - Adaptation - prediction</th>\n",
       "      <th>1 - Impacts - prediction</th>\n",
       "    </tr>\n",
       "  </thead>\n",
       "  <tbody>\n",
       "    <tr>\n",
       "      <th>0</th>\n",
       "      <td>4963912</td>\n",
       "      <td>Objective To explore the association between n...</td>\n",
       "      <td>Exploration of the association between meteoro...</td>\n",
       "      <td>2021.0</td>\n",
       "      <td>NaN</td>\n",
       "      <td>NaN</td>\n",
       "      <td>0.0</td>\n",
       "      <td>0.0</td>\n",
       "      <td>NaN</td>\n",
       "      <td>NaN</td>\n",
       "      <td>NaN</td>\n",
       "      <td>Article</td>\n",
       "      <td>explorationoftheassociationbetweenmeteorologic...</td>\n",
       "      <td>2-s2.0-85123003389</td>\n",
       "      <td>0.790797</td>\n",
       "      <td>0.010609</td>\n",
       "      <td>0.006835</td>\n",
       "      <td>0.980508</td>\n",
       "    </tr>\n",
       "    <tr>\n",
       "      <th>1</th>\n",
       "      <td>4843745</td>\n",
       "      <td>The health, economic, and social impact of COV...</td>\n",
       "      <td>Effects of air pollution and climatology on CO...</td>\n",
       "      <td>2021.0</td>\n",
       "      <td>NaN</td>\n",
       "      <td>NaN</td>\n",
       "      <td>0.0</td>\n",
       "      <td>0.0</td>\n",
       "      <td>NaN</td>\n",
       "      <td>NaN</td>\n",
       "      <td>NaN</td>\n",
       "      <td>Article</td>\n",
       "      <td>effectsofairpollutionandclimatologyoncovid19mo...</td>\n",
       "      <td>WOS:000678453400001</td>\n",
       "      <td>0.975590</td>\n",
       "      <td>0.120187</td>\n",
       "      <td>0.013905</td>\n",
       "      <td>0.954859</td>\n",
       "    </tr>\n",
       "    <tr>\n",
       "      <th>2</th>\n",
       "      <td>4912638</td>\n",
       "      <td>Climate change is increasing the frequency and...</td>\n",
       "      <td>Flood affectedness and household adaptation me...</td>\n",
       "      <td>2021.0</td>\n",
       "      <td>NaN</td>\n",
       "      <td>NaN</td>\n",
       "      <td>0.0</td>\n",
       "      <td>0.0</td>\n",
       "      <td>NaN</td>\n",
       "      <td>NaN</td>\n",
       "      <td>NaN</td>\n",
       "      <td>Article</td>\n",
       "      <td>floodaffectednessandhouseholdadaptationmeasure...</td>\n",
       "      <td>WOS:000700090300003</td>\n",
       "      <td>0.683956</td>\n",
       "      <td>0.002423</td>\n",
       "      <td>0.860631</td>\n",
       "      <td>0.815160</td>\n",
       "    </tr>\n",
       "    <tr>\n",
       "      <th>3</th>\n",
       "      <td>4905712</td>\n",
       "      <td>Infectious diarrhea (ID) is an intestinal infe...</td>\n",
       "      <td>Temperature and risk of infectious diarrhea: a...</td>\n",
       "      <td>2021.0</td>\n",
       "      <td>NaN</td>\n",
       "      <td>NaN</td>\n",
       "      <td>0.0</td>\n",
       "      <td>0.0</td>\n",
       "      <td>NaN</td>\n",
       "      <td>NaN</td>\n",
       "      <td>NaN</td>\n",
       "      <td>Article</td>\n",
       "      <td>temperatureandriskofinfectiousdiarrheaasystema...</td>\n",
       "      <td>WOS:000673836400022</td>\n",
       "      <td>0.590599</td>\n",
       "      <td>0.017460</td>\n",
       "      <td>0.072055</td>\n",
       "      <td>0.913756</td>\n",
       "    </tr>\n",
       "    <tr>\n",
       "      <th>4</th>\n",
       "      <td>4898551</td>\n",
       "      <td>Objectives: This study aimed to investigate th...</td>\n",
       "      <td>Particulate matter (PM10) as a newly identifie...</td>\n",
       "      <td>2021.0</td>\n",
       "      <td>NaN</td>\n",
       "      <td>NaN</td>\n",
       "      <td>0.0</td>\n",
       "      <td>0.0</td>\n",
       "      <td>NaN</td>\n",
       "      <td>NaN</td>\n",
       "      <td>NaN</td>\n",
       "      <td>Article</td>\n",
       "      <td>particulatematterpm10asanewlyidentifiedenviron...</td>\n",
       "      <td>WOS:000632390700029</td>\n",
       "      <td>0.978455</td>\n",
       "      <td>0.063546</td>\n",
       "      <td>0.027324</td>\n",
       "      <td>0.973532</td>\n",
       "    </tr>\n",
       "  </tbody>\n",
       "</table>\n",
       "</div>"
      ],
      "text/plain": [
       "        id                                            content  \\\n",
       "0  4963912  Objective To explore the association between n...   \n",
       "1  4843745  The health, economic, and social impact of COV...   \n",
       "2  4912638  Climate change is increasing the frequency and...   \n",
       "3  4905712  Infectious diarrhea (ID) is an intestinal infe...   \n",
       "4  4898551  Objectives: This study aimed to investigate th...   \n",
       "\n",
       "                                               title      PY wosarticle__de  \\\n",
       "0  Exploration of the association between meteoro...  2021.0            NaN   \n",
       "1  Effects of air pollution and climatology on CO...  2021.0            NaN   \n",
       "2  Flood affectedness and household adaptation me...  2021.0            NaN   \n",
       "3  Temperature and risk of infectious diarrhea: a...  2021.0            NaN   \n",
       "4  Particulate matter (PM10) as a newly identifie...  2021.0            NaN   \n",
       "\n",
       "  wosarticle__wc  relevant  seen  1 - Adaptation  1 - Impacts  1 - Mitigation  \\\n",
       "0            NaN       0.0   0.0             NaN          NaN             NaN   \n",
       "1            NaN       0.0   0.0             NaN          NaN             NaN   \n",
       "2            NaN       0.0   0.0             NaN          NaN             NaN   \n",
       "3            NaN       0.0   0.0             NaN          NaN             NaN   \n",
       "4            NaN       0.0   0.0             NaN          NaN             NaN   \n",
       "\n",
       "  wosarticle__dt                                              tslug  \\\n",
       "0        Article  explorationoftheassociationbetweenmeteorologic...   \n",
       "1        Article  effectsofairpollutionandclimatologyoncovid19mo...   \n",
       "2        Article  floodaffectednessandhouseholdadaptationmeasure...   \n",
       "3        Article  temperatureandriskofinfectiousdiarrheaasystema...   \n",
       "4        Article  particulatematterpm10asanewlyidentifiedenviron...   \n",
       "\n",
       "                UT__UT  prediction  1 - Mitigation - prediction  \\\n",
       "0   2-s2.0-85123003389    0.790797                     0.010609   \n",
       "1  WOS:000678453400001    0.975590                     0.120187   \n",
       "2  WOS:000700090300003    0.683956                     0.002423   \n",
       "3  WOS:000673836400022    0.590599                     0.017460   \n",
       "4  WOS:000632390700029    0.978455                     0.063546   \n",
       "\n",
       "   1 - Adaptation - prediction  1 - Impacts - prediction  \n",
       "0                     0.006835                  0.980508  \n",
       "1                     0.013905                  0.954859  \n",
       "2                     0.860631                  0.815160  \n",
       "3                     0.072055                  0.913756  \n",
       "4                     0.027324                  0.973532  "
      ]
     },
     "execution_count": 2,
     "metadata": {},
     "output_type": "execute_result"
    }
   ],
   "source": [
    "df = pd.read_csv('data/included_docs.csv')\n",
    "df = df[df['PY']==2021].reset_index(drop=True)\n",
    "print(df.shape)\n",
    "df.head()"
   ]
  },
  {
   "cell_type": "code",
   "execution_count": null,
   "metadata": {},
   "outputs": [],
   "source": []
  },
  {
   "cell_type": "code",
   "execution_count": 3,
   "metadata": {},
   "outputs": [
    {
     "name": "stderr",
     "output_type": "stream",
     "text": [
      "/tmp/ipykernel_14878/3068696681.py:3: UserWarning: This pattern has match groups. To actually get the groups, use str.extract.\n",
      "  df['pandemic'] = df['all_text'].str.contains(pandemic_pattern, case=False)\n",
      "/tmp/ipykernel_14878/3068696681.py:4: UserWarning: This pattern has match groups. To actually get the groups, use str.extract.\n",
      "  df['covid'] = df['all_text'].str.contains(\"(corona.*virus)|(COVID)|(Cov2)\", case=False)\n",
      "/tmp/ipykernel_14878/3068696681.py:6: UserWarning: This pattern has match groups. To actually get the groups, use str.extract.\n",
      "  df['adapt'] = df['all_text'].str.contains(\"(adapt)|(resilien)\", case=False)\n",
      "/tmp/ipykernel_14878/3068696681.py:7: UserWarning: This pattern has match groups. To actually get the groups, use str.extract.\n",
      "  df['preparedness'] = df['all_text'].str.contains(\"(preparedness)\", case=False)\n"
     ]
    },
    {
     "name": "stdout",
     "output_type": "stream",
     "text": [
      "adaptation:  481\n",
      "covid:  540\n",
      "pandemic:  628\n"
     ]
    }
   ],
   "source": [
    "df['all_text'] = df['title'].astype(str) + \" \" + df['content'].astype(str) + \" \" + df['wosarticle__de'].astype(str)\n",
    "pandemic_pattern = \"(pandemic)|(corona.*virus)|(COVID)|(Cov2)|(SARS)|(H[0-9]N[0-9])|(HIV)|(plague)|(influenza)|(cholera)\"\n",
    "df['pandemic'] = df['all_text'].str.contains(pandemic_pattern, case=False)\n",
    "df['covid'] = df['all_text'].str.contains(\"(corona.*virus)|(COVID)|(Cov2)\", case=False)\n",
    "\n",
    "df['adapt'] = df['all_text'].str.contains(\"(adapt)|(resilien)\", case=False)\n",
    "df['preparedness'] = df['all_text'].str.contains(\"(preparedness)\", case=False)\n",
    "\n",
    "print(\"adaptation: \", df['adapt'].sum())\n",
    "print(\"covid: \", df['covid'].sum())\n",
    "print(\"pandemic: \", df['pandemic'].sum())"
   ]
  },
  {
   "cell_type": "code",
   "execution_count": 5,
   "metadata": {},
   "outputs": [],
   "source": [
    "df['adapt'] = np.where(df['1 - Adaptation - prediction']>0.5,1,0)"
   ]
  },
  {
   "cell_type": "code",
   "execution_count": 6,
   "metadata": {},
   "outputs": [
    {
     "data": {
      "text/plain": [
       "<matplotlib_venn._common.VennDiagram at 0x7efea8e20340>"
      ]
     },
     "execution_count": 6,
     "metadata": {},
     "output_type": "execute_result"
    },
    {
     "data": {
      "image/png": "[encoded data removed]",
      "text/plain": [
       "<Figure size 432x288 with 1 Axes>"
      ]
     },
     "metadata": {},
     "output_type": "display_data"
    }
   ],
   "source": [
    "from matplotlib_venn import venn2\n",
    "\n",
    "venn2(\n",
    "    subsets=(df['adapt'].sum(),df['pandemic'].sum(),df[(df['adapt']) & df['pandemic']].shape[0]),\n",
    "    set_labels=(\"Adaptation\",\"Pandemic\")\n",
    ")"
   ]
  },
  {
   "cell_type": "code",
   "execution_count": 7,
   "metadata": {},
   "outputs": [],
   "source": [
    "overlap = df[(df['adapt']) & df['pandemic']].shape[0]"
   ]
  },
  {
   "cell_type": "code",
   "execution_count": 8,
   "metadata": {},
   "outputs": [
    {
     "data": {
      "text/plain": [
       "(0.0, 69.03058135868015, -1.0, 47.24345927686122)"
      ]
     },
     "execution_count": 8,
     "metadata": {},
     "output_type": "execute_result"
    },
    {
     "data": {
      "image/png": "[encoded data removed]",
      "text/plain": [
       "<Figure size 432x288 with 1 Axes>"
      ]
     },
     "metadata": {
      "needs_background": "light"
     },
     "output_type": "display_data"
    }
   ],
   "source": [
    "from matplotlib.collections import PatchCollection\n",
    "from matplotlib.patches import Rectangle\n",
    "\n",
    "fig, ax = plt.subplots()\n",
    "\n",
    "size = df.shape[0]\n",
    "\n",
    "def rect_xy(z,m):\n",
    "    x = np.sqrt(z)*m\n",
    "    y = z/x\n",
    "    return x, y\n",
    "\n",
    "aspect = 1.2\n",
    "x, y = rect_xy(size,aspect) \n",
    "ax.set_ylim(ymin=-1,ymax=y)\n",
    "ax.set_xlim(xmax=x+1)\n",
    "\n",
    "rect = Rectangle(\n",
    "    (0,0), \n",
    "    x, y, \n",
    "    facecolor=\"white\", ec=\"black\",\n",
    "    alpha=0.5\n",
    ")\n",
    "ax.add_patch(rect)\n",
    "ax.annotate(\n",
    "    f\"Climate and Health: {df.shape[0]:,}\",\n",
    "    (x*.95,y*.95),va=\"top\",ha=\"right\"\n",
    ")\n",
    "\n",
    "x_adapt, y_adapt = rect_xy(df['adapt'].sum(), 1.4)\n",
    "rect = Rectangle(\n",
    "    (0,0), \n",
    "    x_adapt,y_adapt, \n",
    "    facecolor=\"blue\", alpha=0.5\n",
    ")\n",
    "ax.annotate(\n",
    "    f\"Adaptation\\n{df['adapt'].sum():,}\", \n",
    "    (x_adapt,y_adapt/2),\n",
    "    (x_adapt+x*0.2,y_adapt/2),\n",
    "    arrowprops=dict(arrowstyle=\"->\"),\n",
    "    ha=\"center\",va=\"center\"\n",
    ")\n",
    "ax.add_patch(rect)\n",
    "\n",
    "x_overlap, y_overlap = rect_xy(overlap, 3)\n",
    "y_pandemic = df['pandemic'].sum()/x_overlap\n",
    "\n",
    "rect = Rectangle(\n",
    "    (0,y_adapt-y_overlap),\n",
    "    x_overlap, y_pandemic, \n",
    "    facecolor=\"green\", alpha=0.5\n",
    ")\n",
    "ax.add_patch(rect)\n",
    "\n",
    "\n",
    "\n",
    "ax.set_aspect('equal')\n",
    "ax.axis('off')"
   ]
  },
  {
   "cell_type": "code",
   "execution_count": 9,
   "metadata": {},
   "outputs": [
    {
     "name": "stdout",
     "output_type": "stream",
     "text": [
      "17.03223826599764\n"
     ]
    },
    {
     "data": {
      "text/plain": [
       "Text(0.5, 1.0, 'Proportion of the literature on Adaptation\\n Pandemics, and the overlap between them')"
      ]
     },
     "execution_count": 9,
     "metadata": {},
     "output_type": "execute_result"
    },
    {
     "data": {
      "image/png": "[encoded data removed]",
      "text/plain": [
       "<Figure size 432x288 with 1 Axes>"
      ]
     },
     "metadata": {
      "needs_background": "light"
     },
     "output_type": "display_data"
    }
   ],
   "source": [
    "from matplotlib.collections import PatchCollection\n",
    "from matplotlib.patches import Rectangle\n",
    "\n",
    "fig, ax = plt.subplots()\n",
    "\n",
    "size = df.shape[0]\n",
    "\n",
    "def rect_xy(z,m):\n",
    "    x = np.sqrt(z)*m\n",
    "    y = z/x\n",
    "    return x, y\n",
    "\n",
    "aspect = 1.2\n",
    "x, y = rect_xy(size,aspect) \n",
    "ax.set_ylim(ymin=-1,ymax=y)\n",
    "ax.set_xlim(xmax=x+1)\n",
    "\n",
    "rect = Rectangle(\n",
    "    (0,0), \n",
    "    x, y, \n",
    "    facecolor=\"white\", ec=\"black\",\n",
    "    alpha=0.5\n",
    ")\n",
    "ax.add_patch(rect)\n",
    "ax.annotate(\n",
    "    f\"Climate and Health: {df.shape[0]:,}\",\n",
    "    (x*.95,y*.95),va=\"top\",ha=\"right\"\n",
    ")\n",
    "\n",
    "x_adapt, y_adapt = rect_xy(df['adapt'].sum(), 1.4)\n",
    "rect = Rectangle(\n",
    "    (0,0), \n",
    "    x_adapt,y_adapt, \n",
    "    facecolor=\"blue\", alpha=0.5\n",
    ")\n",
    "ax.annotate(\n",
    "    f\"Adaptation\\n{df['adapt'].sum():,} ({df['adapt'].sum()/df.shape[0]:.0%})\", \n",
    "    (x_adapt,y_adapt/2),\n",
    "    (x_adapt+x*0.2,y_adapt/2),\n",
    "    arrowprops=dict(arrowstyle=\"->\"),\n",
    "    ha=\"center\",va=\"center\"\n",
    ")\n",
    "ax.add_patch(rect)\n",
    "\n",
    "\n",
    "\n",
    "x_overlap, y_overlap = rect_xy(overlap, 3)\n",
    "\n",
    "\n",
    "y_pandemic = y-y_adapt\n",
    "x_pandemic = (df['pandemic'].sum()-overlap)/y_pandemic\n",
    "y_overlap = overlap/x_pandemic\n",
    "print(x_pandemic)\n",
    "\n",
    "rect = Rectangle(\n",
    "    (0,y_adapt-y_overlap),\n",
    "    x_pandemic, y_pandemic+y_overlap, \n",
    "    facecolor=\"green\", alpha=0.5\n",
    ")\n",
    "ax.add_patch(rect)\n",
    "\n",
    "ax.annotate(\n",
    "    f\"Pandemics\\n{df['pandemic'].sum():,} ({df['pandemic'].sum()/df.shape[0]:.0%})\", \n",
    "    (x_pandemic,y_adapt+y_pandemic*0.6),\n",
    "    (x_pandemic+x*0.3,y_adapt+y_pandemic*0.6),\n",
    "    arrowprops=dict(arrowstyle=\"->\"),\n",
    "    ha=\"center\",va=\"center\"\n",
    ")\n",
    "\n",
    "\n",
    "ax.annotate(\n",
    "    f\"Overlap\\n{overlap:,} ({overlap/df.shape[0]:.0%})\", \n",
    "    (x_pandemic,y_adapt),\n",
    "    (x_pandemic+x*0.2,y_adapt+y_pandemic*0.2),\n",
    "    arrowprops=dict(arrowstyle=\"->\"),\n",
    "    ha=\"center\",va=\"center\"\n",
    ")\n",
    "\n",
    "\n",
    "ax.set_aspect('equal')\n",
    "ax.axis('off')\n",
    "\n",
    "ax.set_title('Proportion of the literature on Adaptation\\n Pandemics, and the overlap between them')"
   ]
  },
  {
   "cell_type": "code",
   "execution_count": 10,
   "metadata": {},
   "outputs": [
    {
     "data": {
      "text/plain": [
       "108"
      ]
     },
     "execution_count": 10,
     "metadata": {},
     "output_type": "execute_result"
    }
   ],
   "source": [
    "13+9+86"
   ]
  }
 ],
 "metadata": {
  "kernelspec": {
   "display_name": "Python3.9 (py39)",
   "language": "python",
   "name": "py39"
  },
  "language_info": {
   "codemirror_mode": {
    "name": "ipython",
    "version": 3
   },
   "file_extension": ".py",
   "mimetype": "text/x-python",
   "name": "python",
   "nbconvert_exporter": "python",
   "pygments_lexer": "ipython3",
   "version": "3.9.11"
  }
 },
 "nbformat": 4,
 "nbformat_minor": 4
}
